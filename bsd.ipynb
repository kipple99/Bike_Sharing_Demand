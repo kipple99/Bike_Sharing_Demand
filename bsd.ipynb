{
 "cells": [
  {
   "cell_type": "code",
   "execution_count": 3,
   "metadata": {},
   "outputs": [],
   "source": [
    "import warnings\n",
    "from logging.config import dictConfig\n",
    "import logging\n",
    "import inspect\n",
    "import datetime\n",
    "import traceback\n",
    "import time\n",
    "import sys\n",
    "import os\n",
    "import re\n",
    "import pandas as pd\n",
    "import numpy as np\n",
    "import pandas_profiling\n",
    "import matplotlib.pyplot as plt\n",
    "from fbprophet import Prophet\n",
    "from sklearn.metrics import mean_squared_error\n",
    "from prophet.utilities import regressor_coefficients"
   ]
  },
  {
   "cell_type": "code",
   "execution_count": 4,
   "metadata": {},
   "outputs": [
    {
     "ename": "ValueError",
     "evalue": "Unable to configure handler 'file'",
     "output_type": "error",
     "traceback": [
      "\u001b[1;31m---------------------------------------------------------------------------\u001b[0m",
      "\u001b[1;31mOSError\u001b[0m                                   Traceback (most recent call last)",
      "File \u001b[1;32m~\\anaconda3\\envs\\bike\\lib\\logging\\config.py:563\u001b[0m, in \u001b[0;36mDictConfigurator.configure\u001b[1;34m(self)\u001b[0m\n\u001b[0;32m    <a href='file:///c%3A/Users/user/anaconda3/envs/bike/lib/logging/config.py?line=561'>562</a>\u001b[0m \u001b[39mtry\u001b[39;00m:\n\u001b[1;32m--> <a href='file:///c%3A/Users/user/anaconda3/envs/bike/lib/logging/config.py?line=562'>563</a>\u001b[0m     handler \u001b[39m=\u001b[39m \u001b[39mself\u001b[39;49m\u001b[39m.\u001b[39;49mconfigure_handler(handlers[name])\n\u001b[0;32m    <a href='file:///c%3A/Users/user/anaconda3/envs/bike/lib/logging/config.py?line=563'>564</a>\u001b[0m     handler\u001b[39m.\u001b[39mname \u001b[39m=\u001b[39m name\n",
      "File \u001b[1;32m~\\anaconda3\\envs\\bike\\lib\\logging\\config.py:744\u001b[0m, in \u001b[0;36mDictConfigurator.configure_handler\u001b[1;34m(self, config)\u001b[0m\n\u001b[0;32m    <a href='file:///c%3A/Users/user/anaconda3/envs/bike/lib/logging/config.py?line=742'>743</a>\u001b[0m \u001b[39mtry\u001b[39;00m:\n\u001b[1;32m--> <a href='file:///c%3A/Users/user/anaconda3/envs/bike/lib/logging/config.py?line=743'>744</a>\u001b[0m     result \u001b[39m=\u001b[39m factory(\u001b[39m*\u001b[39;49m\u001b[39m*\u001b[39;49mkwargs)\n\u001b[0;32m    <a href='file:///c%3A/Users/user/anaconda3/envs/bike/lib/logging/config.py?line=744'>745</a>\u001b[0m \u001b[39mexcept\u001b[39;00m \u001b[39mTypeError\u001b[39;00m \u001b[39mas\u001b[39;00m te:\n",
      "File \u001b[1;32m~\\anaconda3\\envs\\bike\\lib\\logging\\__init__.py:1147\u001b[0m, in \u001b[0;36mFileHandler.__init__\u001b[1;34m(self, filename, mode, encoding, delay)\u001b[0m\n\u001b[0;32m   <a href='file:///c%3A/Users/user/anaconda3/envs/bike/lib/logging/__init__.py?line=1145'>1146</a>\u001b[0m \u001b[39melse\u001b[39;00m:\n\u001b[1;32m-> <a href='file:///c%3A/Users/user/anaconda3/envs/bike/lib/logging/__init__.py?line=1146'>1147</a>\u001b[0m     StreamHandler\u001b[39m.\u001b[39m\u001b[39m__init__\u001b[39m(\u001b[39mself\u001b[39m, \u001b[39mself\u001b[39;49m\u001b[39m.\u001b[39;49m_open())\n",
      "File \u001b[1;32m~\\anaconda3\\envs\\bike\\lib\\logging\\__init__.py:1176\u001b[0m, in \u001b[0;36mFileHandler._open\u001b[1;34m(self)\u001b[0m\n\u001b[0;32m   <a href='file:///c%3A/Users/user/anaconda3/envs/bike/lib/logging/__init__.py?line=1171'>1172</a>\u001b[0m \u001b[39m\"\"\"\u001b[39;00m\n\u001b[0;32m   <a href='file:///c%3A/Users/user/anaconda3/envs/bike/lib/logging/__init__.py?line=1172'>1173</a>\u001b[0m \u001b[39mOpen the current base file with the (original) mode and encoding.\u001b[39;00m\n\u001b[0;32m   <a href='file:///c%3A/Users/user/anaconda3/envs/bike/lib/logging/__init__.py?line=1173'>1174</a>\u001b[0m \u001b[39mReturn the resulting stream.\u001b[39;00m\n\u001b[0;32m   <a href='file:///c%3A/Users/user/anaconda3/envs/bike/lib/logging/__init__.py?line=1174'>1175</a>\u001b[0m \u001b[39m\"\"\"\u001b[39;00m\n\u001b[1;32m-> <a href='file:///c%3A/Users/user/anaconda3/envs/bike/lib/logging/__init__.py?line=1175'>1176</a>\u001b[0m \u001b[39mreturn\u001b[39;00m \u001b[39mopen\u001b[39;49m(\u001b[39mself\u001b[39;49m\u001b[39m.\u001b[39;49mbaseFilename, \u001b[39mself\u001b[39;49m\u001b[39m.\u001b[39;49mmode, encoding\u001b[39m=\u001b[39;49m\u001b[39mself\u001b[39;49m\u001b[39m.\u001b[39;49mencoding)\n",
      "\u001b[1;31mOSError\u001b[0m: [Errno 22] Invalid argument: 'c:\\\\Users\\\\user\\\\Desktop\\\\python\\\\Bike Sharing Demand\\\\logs\\\\C:\\\\Users\\\\user\\\\AppData\\\\Local\\\\Temp\\\\ipykernel_7868\\\\585895160_20220322.log'",
      "\nThe above exception was the direct cause of the following exception:\n",
      "\u001b[1;31mValueError\u001b[0m                                Traceback (most recent call last)",
      "\u001b[1;32mc:\\Users\\user\\Desktop\\python\\Bike Sharing Demand\\bsd.ipynb Cell 2'\u001b[0m in \u001b[0;36m<cell line: 6>\u001b[1;34m()\u001b[0m\n\u001b[0;32m      <a href='vscode-notebook-cell:/c%3A/Users/user/Desktop/python/Bike%20Sharing%20Demand/bsd.ipynb#ch0000022?line=2'>3</a>\u001b[0m filePath \u001b[39m=\u001b[39m os\u001b[39m.\u001b[39mgetcwd()\n\u001b[0;32m      <a href='vscode-notebook-cell:/c%3A/Users/user/Desktop/python/Bike%20Sharing%20Demand/bsd.ipynb#ch0000022?line=3'>4</a>\u001b[0m fileName \u001b[39m=\u001b[39m re\u001b[39m.\u001b[39msplit(\u001b[39m'\u001b[39m\u001b[39m[.]\u001b[39m\u001b[39m'\u001b[39m, inspect\u001b[39m.\u001b[39mgetfile(inspect\u001b[39m.\u001b[39mcurrentframe()))[\u001b[39m0\u001b[39m]\n\u001b[1;32m----> <a href='vscode-notebook-cell:/c%3A/Users/user/Desktop/python/Bike%20Sharing%20Demand/bsd.ipynb#ch0000022?line=5'>6</a>\u001b[0m dictConfig({\n\u001b[0;32m      <a href='vscode-notebook-cell:/c%3A/Users/user/Desktop/python/Bike%20Sharing%20Demand/bsd.ipynb#ch0000022?line=6'>7</a>\u001b[0m     \u001b[39m'\u001b[39;49m\u001b[39mversion\u001b[39;49m\u001b[39m'\u001b[39;49m: \u001b[39m1\u001b[39;49m,\n\u001b[0;32m      <a href='vscode-notebook-cell:/c%3A/Users/user/Desktop/python/Bike%20Sharing%20Demand/bsd.ipynb#ch0000022?line=7'>8</a>\u001b[0m     \u001b[39m'\u001b[39;49m\u001b[39mformatters\u001b[39;49m\u001b[39m'\u001b[39;49m: {\n\u001b[0;32m      <a href='vscode-notebook-cell:/c%3A/Users/user/Desktop/python/Bike%20Sharing%20Demand/bsd.ipynb#ch0000022?line=8'>9</a>\u001b[0m         \u001b[39m'\u001b[39;49m\u001b[39mdefault\u001b[39;49m\u001b[39m'\u001b[39;49m: {\n\u001b[0;32m     <a href='vscode-notebook-cell:/c%3A/Users/user/Desktop/python/Bike%20Sharing%20Demand/bsd.ipynb#ch0000022?line=9'>10</a>\u001b[0m             \u001b[39m'\u001b[39;49m\u001b[39mformat\u001b[39;49m\u001b[39m'\u001b[39;49m: \u001b[39m'\u001b[39;49m\u001b[39m[\u001b[39;49m\u001b[39m%(asctime)s\u001b[39;49;00m\u001b[39m] \u001b[39;49m\u001b[39m%(levelname)s\u001b[39;49;00m\u001b[39m --- \u001b[39;49m\u001b[39m%(message)s\u001b[39;49;00m\u001b[39m'\u001b[39;49m,\n\u001b[0;32m     <a href='vscode-notebook-cell:/c%3A/Users/user/Desktop/python/Bike%20Sharing%20Demand/bsd.ipynb#ch0000022?line=10'>11</a>\u001b[0m         }\n\u001b[0;32m     <a href='vscode-notebook-cell:/c%3A/Users/user/Desktop/python/Bike%20Sharing%20Demand/bsd.ipynb#ch0000022?line=11'>12</a>\u001b[0m     },\n\u001b[0;32m     <a href='vscode-notebook-cell:/c%3A/Users/user/Desktop/python/Bike%20Sharing%20Demand/bsd.ipynb#ch0000022?line=12'>13</a>\u001b[0m     \u001b[39m'\u001b[39;49m\u001b[39mhandlers\u001b[39;49m\u001b[39m'\u001b[39;49m: {\n\u001b[0;32m     <a href='vscode-notebook-cell:/c%3A/Users/user/Desktop/python/Bike%20Sharing%20Demand/bsd.ipynb#ch0000022?line=13'>14</a>\u001b[0m         \u001b[39m'\u001b[39;49m\u001b[39mfile\u001b[39;49m\u001b[39m'\u001b[39;49m: {\n\u001b[0;32m     <a href='vscode-notebook-cell:/c%3A/Users/user/Desktop/python/Bike%20Sharing%20Demand/bsd.ipynb#ch0000022?line=14'>15</a>\u001b[0m             \u001b[39m'\u001b[39;49m\u001b[39mlevel\u001b[39;49m\u001b[39m'\u001b[39;49m: \u001b[39m'\u001b[39;49m\u001b[39mINFO\u001b[39;49m\u001b[39m'\u001b[39;49m,\n\u001b[0;32m     <a href='vscode-notebook-cell:/c%3A/Users/user/Desktop/python/Bike%20Sharing%20Demand/bsd.ipynb#ch0000022?line=15'>16</a>\u001b[0m             \u001b[39m'\u001b[39;49m\u001b[39mclass\u001b[39;49m\u001b[39m'\u001b[39;49m: \u001b[39m'\u001b[39;49m\u001b[39mlogging.FileHandler\u001b[39;49m\u001b[39m'\u001b[39;49m,\n\u001b[0;32m     <a href='vscode-notebook-cell:/c%3A/Users/user/Desktop/python/Bike%20Sharing%20Demand/bsd.ipynb#ch0000022?line=16'>17</a>\u001b[0m             \u001b[39m'\u001b[39;49m\u001b[39mfilename\u001b[39;49m\u001b[39m'\u001b[39;49m: \u001b[39m'\u001b[39;49m\u001b[39m{}\u001b[39;49;00m\u001b[39m\\\\\u001b[39;49;00m\u001b[39mlogs\u001b[39;49m\u001b[39m\\\\\u001b[39;49;00m\u001b[39m{}\u001b[39;49;00m\u001b[39m_\u001b[39;49m\u001b[39m{}\u001b[39;49;00m\u001b[39m.log\u001b[39;49m\u001b[39m'\u001b[39;49m\u001b[39m.\u001b[39;49mformat(filePath, fileName, re\u001b[39m.\u001b[39;49msub(\u001b[39m'\u001b[39;49m\u001b[39m-\u001b[39;49m\u001b[39m'\u001b[39;49m, \u001b[39m'\u001b[39;49m\u001b[39m'\u001b[39;49m, \u001b[39mstr\u001b[39;49m(datetime\u001b[39m.\u001b[39;49mdate\u001b[39m.\u001b[39;49mtoday()))),\n\u001b[0;32m     <a href='vscode-notebook-cell:/c%3A/Users/user/Desktop/python/Bike%20Sharing%20Demand/bsd.ipynb#ch0000022?line=17'>18</a>\u001b[0m             \u001b[39m'\u001b[39;49m\u001b[39mformatter\u001b[39;49m\u001b[39m'\u001b[39;49m: \u001b[39m'\u001b[39;49m\u001b[39mdefault\u001b[39;49m\u001b[39m'\u001b[39;49m,\n\u001b[0;32m     <a href='vscode-notebook-cell:/c%3A/Users/user/Desktop/python/Bike%20Sharing%20Demand/bsd.ipynb#ch0000022?line=18'>19</a>\u001b[0m         },\n\u001b[0;32m     <a href='vscode-notebook-cell:/c%3A/Users/user/Desktop/python/Bike%20Sharing%20Demand/bsd.ipynb#ch0000022?line=19'>20</a>\u001b[0m     },\n\u001b[0;32m     <a href='vscode-notebook-cell:/c%3A/Users/user/Desktop/python/Bike%20Sharing%20Demand/bsd.ipynb#ch0000022?line=20'>21</a>\u001b[0m     \u001b[39m'\u001b[39;49m\u001b[39mroot\u001b[39;49m\u001b[39m'\u001b[39;49m: {\n\u001b[0;32m     <a href='vscode-notebook-cell:/c%3A/Users/user/Desktop/python/Bike%20Sharing%20Demand/bsd.ipynb#ch0000022?line=21'>22</a>\u001b[0m         \u001b[39m'\u001b[39;49m\u001b[39mlevel\u001b[39;49m\u001b[39m'\u001b[39;49m: \u001b[39m'\u001b[39;49m\u001b[39mINFO\u001b[39;49m\u001b[39m'\u001b[39;49m,\n\u001b[0;32m     <a href='vscode-notebook-cell:/c%3A/Users/user/Desktop/python/Bike%20Sharing%20Demand/bsd.ipynb#ch0000022?line=22'>23</a>\u001b[0m         \u001b[39m'\u001b[39;49m\u001b[39mhandlers\u001b[39;49m\u001b[39m'\u001b[39;49m: [\u001b[39m'\u001b[39;49m\u001b[39mfile\u001b[39;49m\u001b[39m'\u001b[39;49m]\n\u001b[0;32m     <a href='vscode-notebook-cell:/c%3A/Users/user/Desktop/python/Bike%20Sharing%20Demand/bsd.ipynb#ch0000022?line=23'>24</a>\u001b[0m     }\n\u001b[0;32m     <a href='vscode-notebook-cell:/c%3A/Users/user/Desktop/python/Bike%20Sharing%20Demand/bsd.ipynb#ch0000022?line=24'>25</a>\u001b[0m })\n",
      "File \u001b[1;32m~\\anaconda3\\envs\\bike\\lib\\logging\\config.py:808\u001b[0m, in \u001b[0;36mdictConfig\u001b[1;34m(config)\u001b[0m\n\u001b[0;32m    <a href='file:///c%3A/Users/user/anaconda3/envs/bike/lib/logging/config.py?line=805'>806</a>\u001b[0m \u001b[39mdef\u001b[39;00m \u001b[39mdictConfig\u001b[39m(config):\n\u001b[0;32m    <a href='file:///c%3A/Users/user/anaconda3/envs/bike/lib/logging/config.py?line=806'>807</a>\u001b[0m     \u001b[39m\"\"\"Configure logging using a dictionary.\"\"\"\u001b[39;00m\n\u001b[1;32m--> <a href='file:///c%3A/Users/user/anaconda3/envs/bike/lib/logging/config.py?line=807'>808</a>\u001b[0m     dictConfigClass(config)\u001b[39m.\u001b[39;49mconfigure()\n",
      "File \u001b[1;32m~\\anaconda3\\envs\\bike\\lib\\logging\\config.py:570\u001b[0m, in \u001b[0;36mDictConfigurator.configure\u001b[1;34m(self)\u001b[0m\n\u001b[0;32m    <a href='file:///c%3A/Users/user/anaconda3/envs/bike/lib/logging/config.py?line=567'>568</a>\u001b[0m             deferred\u001b[39m.\u001b[39mappend(name)\n\u001b[0;32m    <a href='file:///c%3A/Users/user/anaconda3/envs/bike/lib/logging/config.py?line=568'>569</a>\u001b[0m         \u001b[39melse\u001b[39;00m:\n\u001b[1;32m--> <a href='file:///c%3A/Users/user/anaconda3/envs/bike/lib/logging/config.py?line=569'>570</a>\u001b[0m             \u001b[39mraise\u001b[39;00m \u001b[39mValueError\u001b[39;00m(\u001b[39m'\u001b[39m\u001b[39mUnable to configure handler \u001b[39m\u001b[39m'\u001b[39m\n\u001b[0;32m    <a href='file:///c%3A/Users/user/anaconda3/envs/bike/lib/logging/config.py?line=570'>571</a>\u001b[0m                              \u001b[39m'\u001b[39m\u001b[39m%r\u001b[39;00m\u001b[39m'\u001b[39m \u001b[39m%\u001b[39m name) \u001b[39mfrom\u001b[39;00m \u001b[39me\u001b[39;00m\n\u001b[0;32m    <a href='file:///c%3A/Users/user/anaconda3/envs/bike/lib/logging/config.py?line=572'>573</a>\u001b[0m \u001b[39m# Now do any that were deferred\u001b[39;00m\n\u001b[0;32m    <a href='file:///c%3A/Users/user/anaconda3/envs/bike/lib/logging/config.py?line=573'>574</a>\u001b[0m \u001b[39mfor\u001b[39;00m name \u001b[39min\u001b[39;00m deferred:\n",
      "\u001b[1;31mValueError\u001b[0m: Unable to configure handler 'file'"
     ]
    }
   ],
   "source": [
    "''' log '''\n",
    "warnings.filterwarnings(action = 'ignore') \n",
    "filePath = os.getcwd()\n",
    "fileName = re.split('[.]', inspect.getfile(inspect.currentframe()))[0]\n",
    "\n",
    "dictConfig({\n",
    "    'version': 1,\n",
    "    'formatters': {\n",
    "        'default': {\n",
    "            'format': '[%(asctime)s] %(levelname)s --- %(message)s',\n",
    "        }\n",
    "    },\n",
    "    'handlers': {\n",
    "        'file': {\n",
    "            'level': 'INFO',\n",
    "            'class': 'logging.FileHandler',\n",
    "            'filename': '{}\\\\logs\\\\{}_{}.log'.format(filePath, fileName, re.sub('-', '', str(datetime.date.today()))),\n",
    "            'formatter': 'default',\n",
    "        },\n",
    "    },\n",
    "    'root': {\n",
    "        'level': 'INFO',\n",
    "        'handlers': ['file']\n",
    "    }\n",
    "})"
   ]
  },
  {
   "cell_type": "code",
   "execution_count": null,
   "metadata": {},
   "outputs": [],
   "source": []
  }
 ],
 "metadata": {
  "interpreter": {
   "hash": "f23faf4bfe871c203c8bec80520af5927fc7cb1ae3bd834ddf554ee587ad1c05"
  },
  "kernelspec": {
   "display_name": "Python 3.8.10 64-bit",
   "language": "python",
   "name": "python3"
  },
  "language_info": {
   "codemirror_mode": {
    "name": "ipython",
    "version": 3
   },
   "file_extension": ".py",
   "mimetype": "text/x-python",
   "name": "python",
   "nbconvert_exporter": "python",
   "pygments_lexer": "ipython3",
   "version": "3.8.10"
  },
  "orig_nbformat": 4
 },
 "nbformat": 4,
 "nbformat_minor": 2
}
